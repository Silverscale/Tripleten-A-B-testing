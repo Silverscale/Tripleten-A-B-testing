{
 "cells": [
  {
   "cell_type": "markdown",
   "id": "ea30bdf8-e8b0-4550-95bc-ddafcdc1aea2",
   "metadata": {},
   "source": [
    "# A/B Testing Project"
   ]
  },
  {
   "cell_type": "markdown",
   "id": "7c2fd9ef-7c60-496a-947d-c71901f641a1",
   "metadata": {},
   "source": [
    "## Contents  <a name='back'></a>"
   ]
  },
  {
   "cell_type": "markdown",
   "id": "7e391b7c-1672-4948-9ee3-0e8f50e93f76",
   "metadata": {},
   "source": [
    "1. [Introduction](#introduction)\n",
    "2. [Part 1: Hypotheses priorization](#hypotheses)"
   ]
  },
  {
   "cell_type": "markdown",
   "id": "b0d4a4f9-d453-41fc-8514-f5d31e519aab",
   "metadata": {},
   "source": [
    "## Introduction <a name='introduction'></a>"
   ]
  },
  {
   "cell_type": "markdown",
   "id": "98bb5d3b-2d24-48b3-9c37-5ce82d692a90",
   "metadata": {},
   "source": [
    "This proyect is for the A/B Testing sprint on Tripleten's Data Analyst course. It consists on two parts:\n",
    "\n",
    "- Part 1 - Prioritizing hypotheses: We have a list of hypotheses that we need to prioritize according to ICE and RICE, and draw conclusions.\n",
    "- Part 2 - A/B Test Analysis: For this part we have data on visitors and orders. Our objective is to determine the results of the test."
   ]
  },
  {
   "cell_type": "markdown",
   "id": "966254e5-f228-4884-87f0-559d45f2d0d6",
   "metadata": {},
   "source": [
    "For this project we'll be using the following:\n",
    "- Python 3.9.5\n",
    "- Pandas 1.2.4\n",
    "- Matplotlib.pyplot 3.3.4\n",
    "- Numpy 1.20.3\n",
    "- Scipy.stats 1.7.3\n",
    "\n",
    "Versions were chosen so they match as closely as possible the versions available on the Tripleten servers"
   ]
  },
  {
   "cell_type": "code",
   "execution_count": 5,
   "id": "b1a94302-dd12-4cc5-9210-9aa8e131d28f",
   "metadata": {},
   "outputs": [],
   "source": [
    "import pandas as pd\n",
    "import matplotlib.pyplot as plt\n",
    "import numpy as np\n",
    "import scipy.stats as stats\n",
    "import datetime as dt"
   ]
  },
  {
   "cell_type": "markdown",
   "id": "385f1aad-f0ed-4511-8c21-89154499b8f4",
   "metadata": {},
   "source": []
  },
  {
   "cell_type": "code",
   "execution_count": null,
   "id": "67f6dda6-de7d-497c-8c19-79108c373d6b",
   "metadata": {},
   "outputs": [],
   "source": []
  }
 ],
 "metadata": {
  "kernelspec": {
   "display_name": "Python 3 (ipykernel)",
   "language": "python",
   "name": "python3"
  },
  "language_info": {
   "codemirror_mode": {
    "name": "ipython",
    "version": 3
   },
   "file_extension": ".py",
   "mimetype": "text/x-python",
   "name": "python",
   "nbconvert_exporter": "python",
   "pygments_lexer": "ipython3",
   "version": "3.9.5"
  }
 },
 "nbformat": 4,
 "nbformat_minor": 5
}
