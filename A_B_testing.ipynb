{
 "cells": [
  {
   "cell_type": "markdown",
   "id": "ea30bdf8-e8b0-4550-95bc-ddafcdc1aea2",
   "metadata": {},
   "source": [
    "# A/B Testing Project"
   ]
  },
  {
   "cell_type": "markdown",
   "id": "7c2fd9ef-7c60-496a-947d-c71901f641a1",
   "metadata": {},
   "source": [
    "## Contents  <a name=\"back\"></a>"
   ]
  },
  {
   "cell_type": "markdown",
   "id": "7e391b7c-1672-4948-9ee3-0e8f50e93f76",
   "metadata": {},
   "source": [
    "1. [Introduction](#introduction)\n",
    "2. [Part 1: Prioritizing Hypotheses](#hypotheses)\n",
    "   1. [Data loading and inspection](#data1)\n",
    "   2. [ICE](#ice)\n",
    "   3. [RICE](#rice)\n",
    "3. [Part 2. A/B Test Analysis](#ab_test)\n",
    "    1. [Cumulative revenue](#cum_revenue)\n",
    "    2. Cumulative order size\n",
    "    3. Avg order size relative difference\n",
    "    4. Conversion rates\n",
    "    5. Orders per user\n",
    "    6. Number of orders percentiles\n",
    "    7. Order prices scatter\n",
    "    8. Order prices percentiles\n",
    "    9. Raw conversion difference significance\n",
    "    10. Raw avg order difference significance\n",
    "    11. Filtered conversion difference significance\n",
    "    12. Filtered avg order difference significance\n",
    "    13. Final decision\n",
    "        "
   ]
  },
  {
   "cell_type": "markdown",
   "id": "b0d4a4f9-d453-41fc-8514-f5d31e519aab",
   "metadata": {},
   "source": [
    "## Introduction <a name=\"introduction\"></a>"
   ]
  },
  {
   "cell_type": "markdown",
   "id": "98bb5d3b-2d24-48b3-9c37-5ce82d692a90",
   "metadata": {},
   "source": [
    "This proyect is for the A/B Testing sprint on Tripleten's Data Analyst course. It consists on two parts:\n",
    "\n",
    "- Part 1 - Prioritizing hypotheses: We have a list of hypotheses that we need to prioritize according to ICE and RICE, and draw conclusions.\n",
    "- Part 2 - A/B Test Analysis: For this part we have data on visitors and orders. Our objective is to determine the results of the test."
   ]
  },
  {
   "cell_type": "markdown",
   "id": "966254e5-f228-4884-87f0-559d45f2d0d6",
   "metadata": {},
   "source": [
    "For this project we'll be using the following:\n",
    "- Python 3.9.5\n",
    "- Pandas 1.2.4\n",
    "- Matplotlib.pyplot 3.3.4\n",
    "- Numpy 1.20.3\n",
    "- Scipy.stats 1.7.3\n",
    "\n",
    "Versions were chosen so they match as closely as possible the versions available on the Tripleten servers"
   ]
  },
  {
   "cell_type": "code",
   "execution_count": 1,
   "id": "b1a94302-dd12-4cc5-9210-9aa8e131d28f",
   "metadata": {},
   "outputs": [],
   "source": [
    "import pandas as pd\n",
    "import matplotlib.pyplot as plt\n",
    "import numpy as np\n",
    "import scipy.stats as stats\n",
    "import datetime as dt"
   ]
  },
  {
   "cell_type": "markdown",
   "id": "385f1aad-f0ed-4511-8c21-89154499b8f4",
   "metadata": {},
   "source": [
    "## Part 1: Prioritizing Hypotheses <a name=\"hypotheses\"></a>"
   ]
  },
  {
   "cell_type": "markdown",
   "id": "45effff9-2f5d-4c69-894f-005f6691295f",
   "metadata": {},
   "source": [
    "### Data loading and inspection <a name=\"data1\"></a>"
   ]
  },
  {
   "cell_type": "markdown",
   "id": "c60efd28-f136-4cbf-aa35-b5b984ef4513",
   "metadata": {},
   "source": [
    "We have a table with the current hypotheses that are awaiting testing. We'll have to load several tables for this proyect, so lets create a function to acomplish that."
   ]
  },
  {
   "cell_type": "code",
   "execution_count": 2,
   "id": "bdc3f890-c3c5-4508-8c75-f0559ad80a29",
   "metadata": {},
   "outputs": [],
   "source": [
    "def load_csv(path: str, sep: str):\n",
    "    try: # Local path\n",
    "        filepath = f'datasets/{path}'\n",
    "        df = pd.read_csv(filepath, sep=sep)\n",
    "    except: # Tripleten server path\n",
    "        filepath = f'/datasets/{path}'\n",
    "        df = pd.read_csv(filepath, sep=sep)\n",
    "    return df"
   ]
  },
  {
   "cell_type": "markdown",
   "id": "1fea8933-1a1c-4a9e-b7e2-7802d93ededf",
   "metadata": {},
   "source": [
    "Now we need to load the table and see what it contains. This is a short table."
   ]
  },
  {
   "cell_type": "code",
   "execution_count": 3,
   "id": "c085b943-c98f-4e82-97b1-6a4a0d21fb22",
   "metadata": {},
   "outputs": [],
   "source": [
    "# Load the table\n",
    "hypotheses = load_csv('hypotheses_us.csv', ';')"
   ]
  },
  {
   "cell_type": "code",
   "execution_count": 4,
   "id": "87fb6173-8894-4d25-b88f-7c9d95d7448b",
   "metadata": {},
   "outputs": [],
   "source": [
    "hypotheses.columns = [x.lower().replace(' ', '_') for x in hypotheses.columns]"
   ]
  },
  {
   "cell_type": "code",
   "execution_count": 5,
   "id": "4b5e3528-8781-4e5e-a11a-e944dc57e02e",
   "metadata": {},
   "outputs": [
    {
     "name": "stdout",
     "output_type": "stream",
     "text": [
      "<class 'pandas.core.frame.DataFrame'>\n",
      "RangeIndex: 9 entries, 0 to 8\n",
      "Data columns (total 5 columns):\n",
      " #   Column      Non-Null Count  Dtype \n",
      "---  ------      --------------  ----- \n",
      " 0   hypothesis  9 non-null      object\n",
      " 1   reach       9 non-null      int64 \n",
      " 2   impact      9 non-null      int64 \n",
      " 3   confidence  9 non-null      int64 \n",
      " 4   effort      9 non-null      int64 \n",
      "dtypes: int64(4), object(1)\n",
      "memory usage: 488.0+ bytes\n"
     ]
    }
   ],
   "source": [
    "hypotheses.info()"
   ]
  },
  {
   "cell_type": "markdown",
   "id": "d742f8ca-bbac-4834-b737-35c1081ffbdd",
   "metadata": {},
   "source": [
    "There is only 9 hypotheses. Lets see them."
   ]
  },
  {
   "cell_type": "code",
   "execution_count": 6,
   "id": "038f95c1-aace-4856-a3f5-d61c3dab4bcc",
   "metadata": {},
   "outputs": [
    {
     "data": {
      "text/html": [
       "<div>\n",
       "<style scoped>\n",
       "    .dataframe tbody tr th:only-of-type {\n",
       "        vertical-align: middle;\n",
       "    }\n",
       "\n",
       "    .dataframe tbody tr th {\n",
       "        vertical-align: top;\n",
       "    }\n",
       "\n",
       "    .dataframe thead th {\n",
       "        text-align: right;\n",
       "    }\n",
       "</style>\n",
       "<table border=\"1\" class=\"dataframe\">\n",
       "  <thead>\n",
       "    <tr style=\"text-align: right;\">\n",
       "      <th></th>\n",
       "      <th>hypothesis</th>\n",
       "      <th>reach</th>\n",
       "      <th>impact</th>\n",
       "      <th>confidence</th>\n",
       "      <th>effort</th>\n",
       "    </tr>\n",
       "  </thead>\n",
       "  <tbody>\n",
       "    <tr>\n",
       "      <th>0</th>\n",
       "      <td>Add two new channels for attracting traffic. T...</td>\n",
       "      <td>3</td>\n",
       "      <td>10</td>\n",
       "      <td>8</td>\n",
       "      <td>6</td>\n",
       "    </tr>\n",
       "    <tr>\n",
       "      <th>1</th>\n",
       "      <td>Launch your own delivery service. This will sh...</td>\n",
       "      <td>2</td>\n",
       "      <td>5</td>\n",
       "      <td>4</td>\n",
       "      <td>10</td>\n",
       "    </tr>\n",
       "    <tr>\n",
       "      <th>2</th>\n",
       "      <td>Add product recommendation blocks to the store...</td>\n",
       "      <td>8</td>\n",
       "      <td>3</td>\n",
       "      <td>7</td>\n",
       "      <td>3</td>\n",
       "    </tr>\n",
       "    <tr>\n",
       "      <th>3</th>\n",
       "      <td>Change the category structure. This will incre...</td>\n",
       "      <td>8</td>\n",
       "      <td>3</td>\n",
       "      <td>3</td>\n",
       "      <td>8</td>\n",
       "    </tr>\n",
       "    <tr>\n",
       "      <th>4</th>\n",
       "      <td>Change the background color on the main page. ...</td>\n",
       "      <td>3</td>\n",
       "      <td>1</td>\n",
       "      <td>1</td>\n",
       "      <td>1</td>\n",
       "    </tr>\n",
       "    <tr>\n",
       "      <th>5</th>\n",
       "      <td>Add a customer review page. This will increase...</td>\n",
       "      <td>3</td>\n",
       "      <td>2</td>\n",
       "      <td>2</td>\n",
       "      <td>3</td>\n",
       "    </tr>\n",
       "    <tr>\n",
       "      <th>6</th>\n",
       "      <td>Show banners with current offers and sales on ...</td>\n",
       "      <td>5</td>\n",
       "      <td>3</td>\n",
       "      <td>8</td>\n",
       "      <td>3</td>\n",
       "    </tr>\n",
       "    <tr>\n",
       "      <th>7</th>\n",
       "      <td>Add a subscription form to all the main pages....</td>\n",
       "      <td>10</td>\n",
       "      <td>7</td>\n",
       "      <td>8</td>\n",
       "      <td>5</td>\n",
       "    </tr>\n",
       "    <tr>\n",
       "      <th>8</th>\n",
       "      <td>Launch a promotion that gives users discounts ...</td>\n",
       "      <td>1</td>\n",
       "      <td>9</td>\n",
       "      <td>9</td>\n",
       "      <td>5</td>\n",
       "    </tr>\n",
       "  </tbody>\n",
       "</table>\n",
       "</div>"
      ],
      "text/plain": [
       "                                          hypothesis  reach  impact  \\\n",
       "0  Add two new channels for attracting traffic. T...      3      10   \n",
       "1  Launch your own delivery service. This will sh...      2       5   \n",
       "2  Add product recommendation blocks to the store...      8       3   \n",
       "3  Change the category structure. This will incre...      8       3   \n",
       "4  Change the background color on the main page. ...      3       1   \n",
       "5  Add a customer review page. This will increase...      3       2   \n",
       "6  Show banners with current offers and sales on ...      5       3   \n",
       "7  Add a subscription form to all the main pages....     10       7   \n",
       "8  Launch a promotion that gives users discounts ...      1       9   \n",
       "\n",
       "   confidence  effort  \n",
       "0           8       6  \n",
       "1           4      10  \n",
       "2           7       3  \n",
       "3           3       8  \n",
       "4           1       1  \n",
       "5           2       3  \n",
       "6           8       3  \n",
       "7           8       5  \n",
       "8           9       5  "
      ]
     },
     "execution_count": 6,
     "metadata": {},
     "output_type": "execute_result"
    }
   ],
   "source": [
    "hypotheses"
   ]
  },
  {
   "cell_type": "markdown",
   "id": "f05e0b89-eda7-4b4f-903f-423c6e0b2e93",
   "metadata": {},
   "source": [
    "There isn't any preprocessing to be done with this. It's ready to be used."
   ]
  },
  {
   "cell_type": "markdown",
   "id": "85752069-dfbb-47c1-b98d-931da5a7a1fc",
   "metadata": {},
   "source": [
    "[Back to Contents](#back)"
   ]
  },
  {
   "cell_type": "markdown",
   "id": "8330b77b-fe31-4052-94c4-0bafeb0dadc3",
   "metadata": {},
   "source": [
    "### ICE <a name=\"ice\"></a>"
   ]
  },
  {
   "cell_type": "markdown",
   "id": "8a47fd8a-5162-4199-9924-98c5b0323281",
   "metadata": {},
   "source": [
    "The ICE score is calculated like this: `(Impact * Confidence) / Effort`. Lets add an ICE column to the data."
   ]
  },
  {
   "cell_type": "code",
   "execution_count": 7,
   "id": "b87bfdb9-0ae2-43e0-b98f-c7736dd36c35",
   "metadata": {},
   "outputs": [],
   "source": [
    "hypotheses['ICE'] = hypotheses['impact'] * hypotheses['confidence'] / hypotheses['effort']"
   ]
  },
  {
   "cell_type": "code",
   "execution_count": 8,
   "id": "cc2fc676-ebb4-4f1b-971d-0ec86501798e",
   "metadata": {},
   "outputs": [
    {
     "data": {
      "text/html": [
       "<div>\n",
       "<style scoped>\n",
       "    .dataframe tbody tr th:only-of-type {\n",
       "        vertical-align: middle;\n",
       "    }\n",
       "\n",
       "    .dataframe tbody tr th {\n",
       "        vertical-align: top;\n",
       "    }\n",
       "\n",
       "    .dataframe thead th {\n",
       "        text-align: right;\n",
       "    }\n",
       "</style>\n",
       "<table border=\"1\" class=\"dataframe\">\n",
       "  <thead>\n",
       "    <tr style=\"text-align: right;\">\n",
       "      <th></th>\n",
       "      <th>hypothesis</th>\n",
       "      <th>reach</th>\n",
       "      <th>impact</th>\n",
       "      <th>confidence</th>\n",
       "      <th>effort</th>\n",
       "      <th>ICE</th>\n",
       "    </tr>\n",
       "  </thead>\n",
       "  <tbody>\n",
       "    <tr>\n",
       "      <th>8</th>\n",
       "      <td>Launch a promotion that gives users discounts ...</td>\n",
       "      <td>1</td>\n",
       "      <td>9</td>\n",
       "      <td>9</td>\n",
       "      <td>5</td>\n",
       "      <td>16.200000</td>\n",
       "    </tr>\n",
       "    <tr>\n",
       "      <th>0</th>\n",
       "      <td>Add two new channels for attracting traffic. T...</td>\n",
       "      <td>3</td>\n",
       "      <td>10</td>\n",
       "      <td>8</td>\n",
       "      <td>6</td>\n",
       "      <td>13.333333</td>\n",
       "    </tr>\n",
       "    <tr>\n",
       "      <th>7</th>\n",
       "      <td>Add a subscription form to all the main pages....</td>\n",
       "      <td>10</td>\n",
       "      <td>7</td>\n",
       "      <td>8</td>\n",
       "      <td>5</td>\n",
       "      <td>11.200000</td>\n",
       "    </tr>\n",
       "    <tr>\n",
       "      <th>6</th>\n",
       "      <td>Show banners with current offers and sales on ...</td>\n",
       "      <td>5</td>\n",
       "      <td>3</td>\n",
       "      <td>8</td>\n",
       "      <td>3</td>\n",
       "      <td>8.000000</td>\n",
       "    </tr>\n",
       "    <tr>\n",
       "      <th>2</th>\n",
       "      <td>Add product recommendation blocks to the store...</td>\n",
       "      <td>8</td>\n",
       "      <td>3</td>\n",
       "      <td>7</td>\n",
       "      <td>3</td>\n",
       "      <td>7.000000</td>\n",
       "    </tr>\n",
       "    <tr>\n",
       "      <th>1</th>\n",
       "      <td>Launch your own delivery service. This will sh...</td>\n",
       "      <td>2</td>\n",
       "      <td>5</td>\n",
       "      <td>4</td>\n",
       "      <td>10</td>\n",
       "      <td>2.000000</td>\n",
       "    </tr>\n",
       "    <tr>\n",
       "      <th>5</th>\n",
       "      <td>Add a customer review page. This will increase...</td>\n",
       "      <td>3</td>\n",
       "      <td>2</td>\n",
       "      <td>2</td>\n",
       "      <td>3</td>\n",
       "      <td>1.333333</td>\n",
       "    </tr>\n",
       "    <tr>\n",
       "      <th>3</th>\n",
       "      <td>Change the category structure. This will incre...</td>\n",
       "      <td>8</td>\n",
       "      <td>3</td>\n",
       "      <td>3</td>\n",
       "      <td>8</td>\n",
       "      <td>1.125000</td>\n",
       "    </tr>\n",
       "    <tr>\n",
       "      <th>4</th>\n",
       "      <td>Change the background color on the main page. ...</td>\n",
       "      <td>3</td>\n",
       "      <td>1</td>\n",
       "      <td>1</td>\n",
       "      <td>1</td>\n",
       "      <td>1.000000</td>\n",
       "    </tr>\n",
       "  </tbody>\n",
       "</table>\n",
       "</div>"
      ],
      "text/plain": [
       "                                          hypothesis  reach  impact  \\\n",
       "8  Launch a promotion that gives users discounts ...      1       9   \n",
       "0  Add two new channels for attracting traffic. T...      3      10   \n",
       "7  Add a subscription form to all the main pages....     10       7   \n",
       "6  Show banners with current offers and sales on ...      5       3   \n",
       "2  Add product recommendation blocks to the store...      8       3   \n",
       "1  Launch your own delivery service. This will sh...      2       5   \n",
       "5  Add a customer review page. This will increase...      3       2   \n",
       "3  Change the category structure. This will incre...      8       3   \n",
       "4  Change the background color on the main page. ...      3       1   \n",
       "\n",
       "   confidence  effort        ICE  \n",
       "8           9       5  16.200000  \n",
       "0           8       6  13.333333  \n",
       "7           8       5  11.200000  \n",
       "6           8       3   8.000000  \n",
       "2           7       3   7.000000  \n",
       "1           4      10   2.000000  \n",
       "5           2       3   1.333333  \n",
       "3           3       8   1.125000  \n",
       "4           1       1   1.000000  "
      ]
     },
     "execution_count": 8,
     "metadata": {},
     "output_type": "execute_result"
    }
   ],
   "source": [
    "hypotheses.sort_values(by='ICE', ascending=False)"
   ]
  },
  {
   "cell_type": "markdown",
   "id": "ae047ff5-a830-4bb0-b109-e645878ab6a9",
   "metadata": {},
   "source": [
    "The ICE score is placing hypotheses 8, 0 and 7 in the top place. These are the following:\n",
    "\n",
    "- 8: Launch a promotion that gives users discounts on their birthdays\n",
    "- 0: Add two new channels for attracting traffic. This will bring 30% more users\n",
    "- 7: Add a subscription form to all the main pages. This will help you compile a mailing list\n",
    "\n",
    "These all have top scores in Impact and Confidence, with a medium Effort score."
   ]
  },
  {
   "cell_type": "markdown",
   "id": "f57e3d4d-8512-469e-ac75-af3747249274",
   "metadata": {},
   "source": [
    "Lets see how that changes with RICE."
   ]
  },
  {
   "cell_type": "markdown",
   "id": "1fc63c62-dc42-4c84-abba-273804477cbb",
   "metadata": {},
   "source": [
    "[Back to Contents](#back)"
   ]
  },
  {
   "cell_type": "markdown",
   "id": "eb348e28-9efb-4704-a907-2dd4a21bb007",
   "metadata": {},
   "source": [
    "### RICE <a name=\"rice\"></a>"
   ]
  },
  {
   "cell_type": "markdown",
   "id": "973d5d5f-1a13-4f25-9a77-dd5d9a659c59",
   "metadata": {},
   "source": [
    "Similar to ICE, RICE will give us a score that will let us prioritize our hypotheses. This time we add Reach to the equation:\n",
    "\n",
    "`(Reach * Impact * Confidence) / Effort`\n",
    "\n",
    "Lets calculate it and add it to the table."
   ]
  },
  {
   "cell_type": "code",
   "execution_count": 9,
   "id": "791db9f8-37bf-42e4-b9cd-dfb3c3fb534b",
   "metadata": {},
   "outputs": [],
   "source": [
    "hypotheses['RICE'] = (hypotheses['reach'] * hypotheses['impact'] * hypotheses['confidence']) / hypotheses['effort']"
   ]
  },
  {
   "cell_type": "code",
   "execution_count": 10,
   "id": "79837c8a-2c04-4d56-9cc0-948c58d4bc70",
   "metadata": {},
   "outputs": [
    {
     "data": {
      "text/html": [
       "<div>\n",
       "<style scoped>\n",
       "    .dataframe tbody tr th:only-of-type {\n",
       "        vertical-align: middle;\n",
       "    }\n",
       "\n",
       "    .dataframe tbody tr th {\n",
       "        vertical-align: top;\n",
       "    }\n",
       "\n",
       "    .dataframe thead th {\n",
       "        text-align: right;\n",
       "    }\n",
       "</style>\n",
       "<table border=\"1\" class=\"dataframe\">\n",
       "  <thead>\n",
       "    <tr style=\"text-align: right;\">\n",
       "      <th></th>\n",
       "      <th>hypothesis</th>\n",
       "      <th>reach</th>\n",
       "      <th>impact</th>\n",
       "      <th>confidence</th>\n",
       "      <th>effort</th>\n",
       "      <th>ICE</th>\n",
       "      <th>RICE</th>\n",
       "    </tr>\n",
       "  </thead>\n",
       "  <tbody>\n",
       "    <tr>\n",
       "      <th>7</th>\n",
       "      <td>Add a subscription form to all the main pages....</td>\n",
       "      <td>10</td>\n",
       "      <td>7</td>\n",
       "      <td>8</td>\n",
       "      <td>5</td>\n",
       "      <td>11.200000</td>\n",
       "      <td>112.0</td>\n",
       "    </tr>\n",
       "    <tr>\n",
       "      <th>2</th>\n",
       "      <td>Add product recommendation blocks to the store...</td>\n",
       "      <td>8</td>\n",
       "      <td>3</td>\n",
       "      <td>7</td>\n",
       "      <td>3</td>\n",
       "      <td>7.000000</td>\n",
       "      <td>56.0</td>\n",
       "    </tr>\n",
       "    <tr>\n",
       "      <th>0</th>\n",
       "      <td>Add two new channels for attracting traffic. T...</td>\n",
       "      <td>3</td>\n",
       "      <td>10</td>\n",
       "      <td>8</td>\n",
       "      <td>6</td>\n",
       "      <td>13.333333</td>\n",
       "      <td>40.0</td>\n",
       "    </tr>\n",
       "    <tr>\n",
       "      <th>6</th>\n",
       "      <td>Show banners with current offers and sales on ...</td>\n",
       "      <td>5</td>\n",
       "      <td>3</td>\n",
       "      <td>8</td>\n",
       "      <td>3</td>\n",
       "      <td>8.000000</td>\n",
       "      <td>40.0</td>\n",
       "    </tr>\n",
       "    <tr>\n",
       "      <th>8</th>\n",
       "      <td>Launch a promotion that gives users discounts ...</td>\n",
       "      <td>1</td>\n",
       "      <td>9</td>\n",
       "      <td>9</td>\n",
       "      <td>5</td>\n",
       "      <td>16.200000</td>\n",
       "      <td>16.2</td>\n",
       "    </tr>\n",
       "    <tr>\n",
       "      <th>3</th>\n",
       "      <td>Change the category structure. This will incre...</td>\n",
       "      <td>8</td>\n",
       "      <td>3</td>\n",
       "      <td>3</td>\n",
       "      <td>8</td>\n",
       "      <td>1.125000</td>\n",
       "      <td>9.0</td>\n",
       "    </tr>\n",
       "    <tr>\n",
       "      <th>1</th>\n",
       "      <td>Launch your own delivery service. This will sh...</td>\n",
       "      <td>2</td>\n",
       "      <td>5</td>\n",
       "      <td>4</td>\n",
       "      <td>10</td>\n",
       "      <td>2.000000</td>\n",
       "      <td>4.0</td>\n",
       "    </tr>\n",
       "    <tr>\n",
       "      <th>5</th>\n",
       "      <td>Add a customer review page. This will increase...</td>\n",
       "      <td>3</td>\n",
       "      <td>2</td>\n",
       "      <td>2</td>\n",
       "      <td>3</td>\n",
       "      <td>1.333333</td>\n",
       "      <td>4.0</td>\n",
       "    </tr>\n",
       "    <tr>\n",
       "      <th>4</th>\n",
       "      <td>Change the background color on the main page. ...</td>\n",
       "      <td>3</td>\n",
       "      <td>1</td>\n",
       "      <td>1</td>\n",
       "      <td>1</td>\n",
       "      <td>1.000000</td>\n",
       "      <td>3.0</td>\n",
       "    </tr>\n",
       "  </tbody>\n",
       "</table>\n",
       "</div>"
      ],
      "text/plain": [
       "                                          hypothesis  reach  impact  \\\n",
       "7  Add a subscription form to all the main pages....     10       7   \n",
       "2  Add product recommendation blocks to the store...      8       3   \n",
       "0  Add two new channels for attracting traffic. T...      3      10   \n",
       "6  Show banners with current offers and sales on ...      5       3   \n",
       "8  Launch a promotion that gives users discounts ...      1       9   \n",
       "3  Change the category structure. This will incre...      8       3   \n",
       "1  Launch your own delivery service. This will sh...      2       5   \n",
       "5  Add a customer review page. This will increase...      3       2   \n",
       "4  Change the background color on the main page. ...      3       1   \n",
       "\n",
       "   confidence  effort        ICE   RICE  \n",
       "7           8       5  11.200000  112.0  \n",
       "2           7       3   7.000000   56.0  \n",
       "0           8       6  13.333333   40.0  \n",
       "6           8       3   8.000000   40.0  \n",
       "8           9       5  16.200000   16.2  \n",
       "3           3       8   1.125000    9.0  \n",
       "1           4      10   2.000000    4.0  \n",
       "5           2       3   1.333333    4.0  \n",
       "4           1       1   1.000000    3.0  "
      ]
     },
     "execution_count": 10,
     "metadata": {},
     "output_type": "execute_result"
    }
   ],
   "source": [
    "hypotheses.sort_values(by='RICE', ascending=False)"
   ]
  },
  {
   "cell_type": "markdown",
   "id": "a5845869-36e7-4342-9255-f8d94e94d314",
   "metadata": {},
   "source": [
    "The RICE score also puts hypotheses 7 and 0 in the top 3. \n",
    "\n",
    "- Hypotheses 7 already had a high ICE score. Having maximum reach bumped it's position to the first place, by far. It has more than double the score of the next best.\n",
    "- Hypotheses 2 was in the middle of the pack according to ICE. It has a good Reach score, which helped it move up. But the main reason it got to second place is that the rest of the ICE high scorers have a pretty low Reach, drastically impacting their RICE score.\n",
    "- Hypotheses 8 was knocked down several positions due to its low reach.\n",
    "- Hypotheses 0 had a great ICE score, and with that it managed to stay in the top 3 even tough it has a low Reach score, mostly because that is the case with most of the hypotheses."
   ]
  },
  {
   "cell_type": "markdown",
   "id": "c05a53f9-bc0c-4235-9ec9-f9f336c3de45",
   "metadata": {},
   "source": [
    "Overall, hypotheses 7 seems to be the most relevant right now."
   ]
  },
  {
   "cell_type": "markdown",
   "id": "4d6cf6d7-38f5-46a4-97a7-656ad9a29f3c",
   "metadata": {},
   "source": [
    "[Back to Contents](#back)"
   ]
  },
  {
   "cell_type": "markdown",
   "id": "ac5d0894-fa1a-46a0-ac95-5e1bdcc3cfb1",
   "metadata": {},
   "source": [
    "## Part 2: A/B Test Analysis <a name=\"ab_test\"></a>"
   ]
  },
  {
   "cell_type": "markdown",
   "id": "1d79de0d-ec61-4a9d-a047-2079813d38fc",
   "metadata": {},
   "source": [
    "For this part we have the data of the A/B test. We will be analizing the results in order to conclude if the tested hypotheses show an improvement or not. "
   ]
  },
  {
   "cell_type": "markdown",
   "id": "88481328-31e5-4c83-8079-28eec9a42477",
   "metadata": {},
   "source": [
    "### Data loading and inspection <a name=\"data2\"></a>"
   ]
  },
  {
   "cell_type": "markdown",
   "id": "79b7647f-cba1-4cef-8fd0-96a80b92cc3c",
   "metadata": {},
   "source": [
    "We have two tables to work with here. Visitors and Orders. Let's get them ready."
   ]
  },
  {
   "cell_type": "code",
   "execution_count": 11,
   "id": "83debce0-5ad6-4d35-8fc8-60ebdc539ce7",
   "metadata": {},
   "outputs": [],
   "source": [
    "orders = load_csv('orders_us.csv', ',')\n",
    "visits = load_csv('visits_us.csv', ',')"
   ]
  },
  {
   "cell_type": "code",
   "execution_count": 12,
   "id": "12385c95-813d-44ba-a390-8691038e34a2",
   "metadata": {},
   "outputs": [
    {
     "name": "stdout",
     "output_type": "stream",
     "text": [
      "<class 'pandas.core.frame.DataFrame'>\n",
      "RangeIndex: 1197 entries, 0 to 1196\n",
      "Data columns (total 5 columns):\n",
      " #   Column         Non-Null Count  Dtype  \n",
      "---  ------         --------------  -----  \n",
      " 0   transactionId  1197 non-null   int64  \n",
      " 1   visitorId      1197 non-null   int64  \n",
      " 2   date           1197 non-null   object \n",
      " 3   revenue        1197 non-null   float64\n",
      " 4   group          1197 non-null   object \n",
      "dtypes: float64(1), int64(2), object(2)\n",
      "memory usage: 46.9+ KB\n"
     ]
    },
    {
     "data": {
      "text/html": [
       "<div>\n",
       "<style scoped>\n",
       "    .dataframe tbody tr th:only-of-type {\n",
       "        vertical-align: middle;\n",
       "    }\n",
       "\n",
       "    .dataframe tbody tr th {\n",
       "        vertical-align: top;\n",
       "    }\n",
       "\n",
       "    .dataframe thead th {\n",
       "        text-align: right;\n",
       "    }\n",
       "</style>\n",
       "<table border=\"1\" class=\"dataframe\">\n",
       "  <thead>\n",
       "    <tr style=\"text-align: right;\">\n",
       "      <th></th>\n",
       "      <th>transactionId</th>\n",
       "      <th>visitorId</th>\n",
       "      <th>date</th>\n",
       "      <th>revenue</th>\n",
       "      <th>group</th>\n",
       "    </tr>\n",
       "  </thead>\n",
       "  <tbody>\n",
       "    <tr>\n",
       "      <th>0</th>\n",
       "      <td>3667963787</td>\n",
       "      <td>3312258926</td>\n",
       "      <td>2019-08-15</td>\n",
       "      <td>30.4</td>\n",
       "      <td>B</td>\n",
       "    </tr>\n",
       "    <tr>\n",
       "      <th>1</th>\n",
       "      <td>2804400009</td>\n",
       "      <td>3642806036</td>\n",
       "      <td>2019-08-15</td>\n",
       "      <td>15.2</td>\n",
       "      <td>B</td>\n",
       "    </tr>\n",
       "    <tr>\n",
       "      <th>2</th>\n",
       "      <td>2961555356</td>\n",
       "      <td>4069496402</td>\n",
       "      <td>2019-08-15</td>\n",
       "      <td>10.2</td>\n",
       "      <td>A</td>\n",
       "    </tr>\n",
       "    <tr>\n",
       "      <th>3</th>\n",
       "      <td>3797467345</td>\n",
       "      <td>1196621759</td>\n",
       "      <td>2019-08-15</td>\n",
       "      <td>155.1</td>\n",
       "      <td>B</td>\n",
       "    </tr>\n",
       "    <tr>\n",
       "      <th>4</th>\n",
       "      <td>2282983706</td>\n",
       "      <td>2322279887</td>\n",
       "      <td>2019-08-15</td>\n",
       "      <td>40.5</td>\n",
       "      <td>B</td>\n",
       "    </tr>\n",
       "  </tbody>\n",
       "</table>\n",
       "</div>"
      ],
      "text/plain": [
       "   transactionId   visitorId        date  revenue group\n",
       "0     3667963787  3312258926  2019-08-15     30.4     B\n",
       "1     2804400009  3642806036  2019-08-15     15.2     B\n",
       "2     2961555356  4069496402  2019-08-15     10.2     A\n",
       "3     3797467345  1196621759  2019-08-15    155.1     B\n",
       "4     2282983706  2322279887  2019-08-15     40.5     B"
      ]
     },
     "execution_count": 12,
     "metadata": {},
     "output_type": "execute_result"
    }
   ],
   "source": [
    "orders.info()\n",
    "orders.head(5)"
   ]
  },
  {
   "cell_type": "markdown",
   "id": "79346aab-b674-4151-be51-ee7faab1df1b",
   "metadata": {},
   "source": [
    "It has no null values, and the column names are correctly formatted. We need to set the proper types for the date and group."
   ]
  },
  {
   "cell_type": "code",
   "execution_count": 13,
   "id": "1a0aa0f1-c5a3-444b-8768-9e50af806cbd",
   "metadata": {},
   "outputs": [],
   "source": [
    "# Set date and group to their correct type\n",
    "orders['date'] = orders['date'].map(lambda x: dt.datetime.strptime(x, '%Y-%m-%d'))\n",
    "orders['group'] = orders['group'].astype('category')"
   ]
  },
  {
   "cell_type": "markdown",
   "id": "4c76e274-e8d2-4bf3-a255-9422b7c8b289",
   "metadata": {},
   "source": [
    "Now lets do the same for visits."
   ]
  },
  {
   "cell_type": "code",
   "execution_count": 14,
   "id": "4cae1607-9f6a-4f3b-be44-347f01959105",
   "metadata": {},
   "outputs": [
    {
     "name": "stdout",
     "output_type": "stream",
     "text": [
      "<class 'pandas.core.frame.DataFrame'>\n",
      "RangeIndex: 62 entries, 0 to 61\n",
      "Data columns (total 3 columns):\n",
      " #   Column  Non-Null Count  Dtype \n",
      "---  ------  --------------  ----- \n",
      " 0   date    62 non-null     object\n",
      " 1   group   62 non-null     object\n",
      " 2   visits  62 non-null     int64 \n",
      "dtypes: int64(1), object(2)\n",
      "memory usage: 1.6+ KB\n"
     ]
    },
    {
     "data": {
      "text/html": [
       "<div>\n",
       "<style scoped>\n",
       "    .dataframe tbody tr th:only-of-type {\n",
       "        vertical-align: middle;\n",
       "    }\n",
       "\n",
       "    .dataframe tbody tr th {\n",
       "        vertical-align: top;\n",
       "    }\n",
       "\n",
       "    .dataframe thead th {\n",
       "        text-align: right;\n",
       "    }\n",
       "</style>\n",
       "<table border=\"1\" class=\"dataframe\">\n",
       "  <thead>\n",
       "    <tr style=\"text-align: right;\">\n",
       "      <th></th>\n",
       "      <th>date</th>\n",
       "      <th>group</th>\n",
       "      <th>visits</th>\n",
       "    </tr>\n",
       "  </thead>\n",
       "  <tbody>\n",
       "    <tr>\n",
       "      <th>0</th>\n",
       "      <td>2019-08-01</td>\n",
       "      <td>A</td>\n",
       "      <td>719</td>\n",
       "    </tr>\n",
       "    <tr>\n",
       "      <th>1</th>\n",
       "      <td>2019-08-02</td>\n",
       "      <td>A</td>\n",
       "      <td>619</td>\n",
       "    </tr>\n",
       "    <tr>\n",
       "      <th>2</th>\n",
       "      <td>2019-08-03</td>\n",
       "      <td>A</td>\n",
       "      <td>507</td>\n",
       "    </tr>\n",
       "    <tr>\n",
       "      <th>3</th>\n",
       "      <td>2019-08-04</td>\n",
       "      <td>A</td>\n",
       "      <td>717</td>\n",
       "    </tr>\n",
       "    <tr>\n",
       "      <th>4</th>\n",
       "      <td>2019-08-05</td>\n",
       "      <td>A</td>\n",
       "      <td>756</td>\n",
       "    </tr>\n",
       "  </tbody>\n",
       "</table>\n",
       "</div>"
      ],
      "text/plain": [
       "         date group  visits\n",
       "0  2019-08-01     A     719\n",
       "1  2019-08-02     A     619\n",
       "2  2019-08-03     A     507\n",
       "3  2019-08-04     A     717\n",
       "4  2019-08-05     A     756"
      ]
     },
     "execution_count": 14,
     "metadata": {},
     "output_type": "execute_result"
    }
   ],
   "source": [
    "visits.info()\n",
    "visits.head(5)"
   ]
  },
  {
   "cell_type": "markdown",
   "id": "eaf9f526-4a41-42ac-ae66-d9186bb9503d",
   "metadata": {},
   "source": [
    "There is no null values. Column names are ok. We only need to correct the types."
   ]
  },
  {
   "cell_type": "code",
   "execution_count": 15,
   "id": "14042a53-e151-421b-9bc5-4d3e91435baf",
   "metadata": {},
   "outputs": [],
   "source": [
    "visits['date'] = visits['date'].map(lambda x: dt.datetime.strptime(x, '%Y-%m-%d'))\n",
    "visits['group'] = visits['group'].astype('category')"
   ]
  },
  {
   "cell_type": "markdown",
   "id": "ece4002e-7eff-4ed5-b7aa-9bd578cdfe95",
   "metadata": {},
   "source": [
    "Now lets check some possible errors in the data:"
   ]
  },
  {
   "cell_type": "markdown",
   "id": "e1a185ec-5325-4fa9-8fa5-c31573606487",
   "metadata": {},
   "source": [
    "Do we have repeated `date-group` combinations in `visits`?"
   ]
  },
  {
   "cell_type": "code",
   "execution_count": 16,
   "id": "fc6b80c9-96dd-44ce-bc8b-c039e8be55b5",
   "metadata": {},
   "outputs": [
    {
     "data": {
      "text/plain": [
       "0"
      ]
     },
     "execution_count": 16,
     "metadata": {},
     "output_type": "execute_result"
    }
   ],
   "source": [
    "# Check for rows with the same date-group combination. A sum of 0 mean there are no duplicates\n",
    "visits[['date', 'group']].duplicated().sum()"
   ]
  },
  {
   "cell_type": "markdown",
   "id": "eb770bc0-a689-4724-9c97-673176955c95",
   "metadata": {},
   "source": [
    "Do we have duplicated `transactionId`'s?"
   ]
  },
  {
   "cell_type": "code",
   "execution_count": 17,
   "id": "eda0fec6-2107-4675-b5d7-87774dde1095",
   "metadata": {},
   "outputs": [
    {
     "data": {
      "text/plain": [
       "1197"
      ]
     },
     "execution_count": 17,
     "metadata": {},
     "output_type": "execute_result"
    }
   ],
   "source": [
    "# There are 1197 rows in the orders df. We should get the same value with nunique if there isn't any duplicates\n",
    "orders['transactionId'].nunique()"
   ]
  },
  {
   "cell_type": "markdown",
   "id": "dc1c1734-a136-460e-b533-99210f35e2ff",
   "metadata": {},
   "source": [
    "Do the `date` range match in `orders` and `visits`?"
   ]
  },
  {
   "cell_type": "code",
   "execution_count": 18,
   "id": "a9e8e392-5e8a-43a8-8c29-ac45d081c319",
   "metadata": {},
   "outputs": [
    {
     "name": "stdout",
     "output_type": "stream",
     "text": [
      "Orders date range:\n",
      "2019-08-01 00:00:00\n",
      "2019-08-31 00:00:00\n",
      "---\n",
      "Visits date range:\n",
      "2019-08-01 00:00:00\n",
      "2019-08-31 00:00:00\n"
     ]
    }
   ],
   "source": [
    "# The min and max values should match\n",
    "print('Orders date range:')\n",
    "print(orders['date'].min())\n",
    "print(orders['date'].max())\n",
    "print('---')\n",
    "print('Visits date range:')\n",
    "print(visits['date'].min())\n",
    "print(visits['date'].max())"
   ]
  },
  {
   "cell_type": "markdown",
   "id": "0ffe021e-bcd8-4cb7-b5b9-464d825786da",
   "metadata": {},
   "source": [
    "Is there a value other than A and B in the group columns?"
   ]
  },
  {
   "cell_type": "code",
   "execution_count": 19,
   "id": "2cb70de9-fdbc-4400-96e7-e037e50b9516",
   "metadata": {},
   "outputs": [
    {
     "name": "stdout",
     "output_type": "stream",
     "text": [
      "['B', 'A']\n",
      "Categories (2, object): ['B', 'A']\n",
      "['A', 'B']\n",
      "Categories (2, object): ['A', 'B']\n"
     ]
    }
   ],
   "source": [
    "print(orders['group'].unique())\n",
    "print(visits['group'].unique())"
   ]
  },
  {
   "cell_type": "markdown",
   "id": "bf322697-44a7-4616-9640-69bc277e1cf3",
   "metadata": {},
   "source": [
    "Is there a size difference between groups?"
   ]
  },
  {
   "cell_type": "code",
   "execution_count": 20,
   "id": "6cad1911-2962-4e96-a592-1d4c3b7d27ae",
   "metadata": {},
   "outputs": [
    {
     "data": {
      "text/plain": [
       "group\n",
       "A    18736\n",
       "B    18916\n",
       "Name: visits, dtype: int64"
      ]
     },
     "execution_count": 20,
     "metadata": {},
     "output_type": "execute_result"
    }
   ],
   "source": [
    "visits.groupby('group')['visits'].sum()"
   ]
  },
  {
   "cell_type": "code",
   "execution_count": 21,
   "id": "aba807a7-590a-422f-9d6e-0df2185d2cb6",
   "metadata": {},
   "outputs": [
    {
     "data": {
      "text/plain": [
       "0.9904842461408332"
      ]
     },
     "execution_count": 21,
     "metadata": {},
     "output_type": "execute_result"
    }
   ],
   "source": [
    "18736/18916"
   ]
  },
  {
   "cell_type": "markdown",
   "id": "0e7f86cd-9e79-4a96-a222-f864a29f673c",
   "metadata": {},
   "source": [
    "Group B has around 1% more visits than group A. Lets remember this."
   ]
  },
  {
   "cell_type": "markdown",
   "id": "d08fa3d2-9909-452f-840f-7b06ac355d84",
   "metadata": {},
   "source": [
    "Does any `visitorId` have orders on both groups?"
   ]
  },
  {
   "cell_type": "code",
   "execution_count": 22,
   "id": "2e5c9ffc-fdfe-4217-a673-80be7e70048c",
   "metadata": {},
   "outputs": [
    {
     "name": "stdout",
     "output_type": "stream",
     "text": [
      "<class 'pandas.core.frame.DataFrame'>\n",
      "Int64Index: 58 entries, 0 to 57\n",
      "Data columns (total 2 columns):\n",
      " #   Column     Non-Null Count  Dtype\n",
      "---  ------     --------------  -----\n",
      " 0   visitorId  58 non-null     int64\n",
      " 1   group      58 non-null     int64\n",
      "dtypes: int64(2)\n",
      "memory usage: 1.4 KB\n"
     ]
    }
   ],
   "source": [
    "double_groups = orders.groupby('visitorId')['group'].nunique().sort_values(ascending=False).reset_index().query('group > 1')\n",
    "double_groups.info()"
   ]
  },
  {
   "cell_type": "markdown",
   "id": "6b30267e-3ffc-44bf-8510-c37c2f435426",
   "metadata": {},
   "source": [
    "There are 58 visitors that were part of both groups. We should drop them from the test. It is possible to drop their orders, but we have no way of droping their visits, since we only have pre-agregated data."
   ]
  },
  {
   "cell_type": "code",
   "execution_count": 23,
   "id": "0edb46fe-706b-4042-aa0b-7abefd64578f",
   "metadata": {},
   "outputs": [],
   "source": [
    "orders = orders[np.logical_not(orders['visitorId'].isin(double_groups['visitorId']))]"
   ]
  },
  {
   "cell_type": "code",
   "execution_count": 24,
   "id": "47bd8efe-0c82-4583-866f-a6c74b464e84",
   "metadata": {},
   "outputs": [
    {
     "name": "stdout",
     "output_type": "stream",
     "text": [
      "<class 'pandas.core.frame.DataFrame'>\n",
      "Int64Index: 1016 entries, 0 to 1196\n",
      "Data columns (total 5 columns):\n",
      " #   Column         Non-Null Count  Dtype         \n",
      "---  ------         --------------  -----         \n",
      " 0   transactionId  1016 non-null   int64         \n",
      " 1   visitorId      1016 non-null   int64         \n",
      " 2   date           1016 non-null   datetime64[ns]\n",
      " 3   revenue        1016 non-null   float64       \n",
      " 4   group          1016 non-null   category      \n",
      "dtypes: category(1), datetime64[ns](1), float64(1), int64(2)\n",
      "memory usage: 40.8 KB\n"
     ]
    }
   ],
   "source": [
    "orders.info()"
   ]
  },
  {
   "cell_type": "markdown",
   "id": "9eec2247-c46f-4877-97a3-97acfbdbe561",
   "metadata": {},
   "source": [
    "The data is ready for work. Let's start."
   ]
  },
  {
   "cell_type": "markdown",
   "id": "969d886c-d1a3-48ae-8051-62529d8273c5",
   "metadata": {},
   "source": [
    "[Back to contents](#back)"
   ]
  },
  {
   "cell_type": "markdown",
   "id": "9fb3e23d-0eaf-4e50-b17b-f7c2bf57e654",
   "metadata": {},
   "source": [
    "### Cumulative revenue <a name=\"cum_revenue\"></a>"
   ]
  },
  {
   "cell_type": "markdown",
   "id": "ae065278-6441-43d9-b713-b56347088849",
   "metadata": {},
   "source": [
    "Let's start by plotting the cumulative revenue by group. "
   ]
  },
  {
   "cell_type": "code",
   "execution_count": 25,
   "id": "6297292e-fbe1-4991-8daa-eab0c5fdfd8c",
   "metadata": {},
   "outputs": [],
   "source": [
    "# Since we changed groups to category, we can't use max anymore. We'll use this function instead\n",
    "def get_group(col):\n",
    "    return col.iloc[0]"
   ]
  },
  {
   "cell_type": "code",
   "execution_count": 26,
   "id": "73144a1d-26e5-42ef-a55a-c0b3918e7358",
   "metadata": {},
   "outputs": [],
   "source": [
    "# We already checked that there are no duplicates here\n",
    "datesGroups = visits[['date', 'group']]\n",
    "\n",
    "# Calculate the cumulative values per day for each group\n",
    "cumulativeOrders = datesGroups.apply(\n",
    "    lambda x: orders[\n",
    "        np.logical_and(\n",
    "            orders['date'] <= x['date'],\n",
    "            orders['group'] == x['group']\n",
    "        )\n",
    "    ].agg(\n",
    "        {\n",
    "            'date': 'max',\n",
    "            'group': get_group,\n",
    "            'transactionId': pd.Series.nunique,\n",
    "            'visitorId': pd.Series.nunique,\n",
    "            'revenue': 'sum'\n",
    "        }\n",
    "    ),\n",
    "    axis=1\n",
    ").sort_values(by=['date', 'group'])\n",
    "cumulativeOrders.columns = ['date', 'group', 'orders', 'visitors', 'revenue']"
   ]
  },
  {
   "cell_type": "code",
   "execution_count": 27,
   "id": "431ca6d2-4997-40d3-8b95-2b9f5fd6367f",
   "metadata": {},
   "outputs": [],
   "source": [
    "cumulativeRevenueA = (cumulativeOrders.query('group == \"A\"'))[['date', 'revenue', 'orders']]\n",
    "cumulativeRevenueB = (cumulativeOrders.query('group == \"B\"'))[['date', 'revenue', 'orders']]"
   ]
  },
  {
   "cell_type": "code",
   "execution_count": 30,
   "id": "519fce01-e31f-4d3f-943e-046b83d85f34",
   "metadata": {},
   "outputs": [
    {
     "data": {
      "image/png": "[encoded data removed]",
      "text/plain": [
       "<Figure size 1200x800 with 1 Axes>"
      ]
     },
     "metadata": {},
     "output_type": "display_data"
    }
   ],
   "source": [
    "plt.figure(figsize=(12,8))\n",
    "plt.plot(cumulativeRevenueA['date'],\n",
    "         cumulativeRevenueA['revenue'],\n",
    "         label=\"A\"\n",
    "        )\n",
    "plt.plot(cumulativeRevenueB['date'],\n",
    "         cumulativeRevenueB['revenue'],\n",
    "         label=\"B\"\n",
    "        )\n",
    "plt.legend();"
   ]
  },
  {
   "cell_type": "markdown",
   "id": "c3e295a2-e9d9-484a-91de-9f7b3d1c963e",
   "metadata": {},
   "source": [
    "Group B appears to take the lead on revenue. The big jump suggests the presence of outliers. We'll have to check that later."
   ]
  },
  {
   "cell_type": "markdown",
   "id": "a73102b1-238c-4b49-beed-34147196cb75",
   "metadata": {},
   "source": [
    "[Back to Contents](#back)"
   ]
  },
  {
   "cell_type": "markdown",
   "id": "c52d7b1a-0e38-4bbc-9f08-1d88aee31dac",
   "metadata": {},
   "source": [
    "### Cumulative avg order size"
   ]
  },
  {
   "cell_type": "markdown",
   "id": "6f0cefde-d98e-492a-b526-22548b140bc7",
   "metadata": {},
   "source": [
    "Now lets see how the average order size evolved during the test."
   ]
  },
  {
   "cell_type": "code",
   "execution_count": 37,
   "id": "c6a7c1d0-4d50-4345-8baf-aaaaae427e96",
   "metadata": {},
   "outputs": [
    {
     "data": {
      "image/png": "[encoded data removed]",
      "text/plain": [
       "<Figure size 1200x800 with 1 Axes>"
      ]
     },
     "metadata": {},
     "output_type": "display_data"
    }
   ],
   "source": [
    "plt.figure(figsize=(12,8))\n",
    "plt.plot(\n",
    "    cumulativeRevenueA['date'],\n",
    "    cumulativeRevenueA['revenue'] / cumulativeRevenueA['orders'],\n",
    "    label = 'A'\n",
    ")\n",
    "\n",
    "plt.plot(\n",
    "    cumulativeRevenueB['date'],\n",
    "    cumulativeRevenueB['revenue'] / cumulativeRevenueB['orders'],\n",
    "    label = 'B'\n",
    ")\n",
    "plt.legend();"
   ]
  },
  {
   "cell_type": "markdown",
   "id": "8ffdb8a4-24b4-48ce-9a2d-9db3415c1168",
   "metadata": {},
   "source": [
    "Just as before, we see a huge jump on group B. We'll need to remove outliers to properly analyze this data."
   ]
  },
  {
   "cell_type": "markdown",
   "id": "a37e10f2-3939-4830-a183-65495d77fcd9",
   "metadata": {},
   "source": [
    "[Back to Contents](#back)"
   ]
  },
  {
   "cell_type": "code",
   "execution_count": null,
   "id": "99f4ae7d-1107-4269-9df1-a90dcfdc281f",
   "metadata": {},
   "outputs": [],
   "source": []
  }
 ],
 "metadata": {
  "kernelspec": {
   "display_name": "Python 3 (ipykernel)",
   "language": "python",
   "name": "python3"
  },
  "language_info": {
   "codemirror_mode": {
    "name": "ipython",
    "version": 3
   },
   "file_extension": ".py",
   "mimetype": "text/x-python",
   "name": "python",
   "nbconvert_exporter": "python",
   "pygments_lexer": "ipython3",
   "version": "3.9.5"
  }
 },
 "nbformat": 4,
 "nbformat_minor": 5
}
